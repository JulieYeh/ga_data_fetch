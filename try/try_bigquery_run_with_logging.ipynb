{
 "cells": [
  {
   "cell_type": "code",
   "execution_count": 135,
   "metadata": {
    "collapsed": true
   },
   "outputs": [],
   "source": [
    "import pandas as pd\n",
    "from pandas_gbq import read_gbq\n",
    "import logging\n",
    "from pathlib import Path\n",
    "from datetime import datetime, timedelta\n",
    "import numpy as np\n",
    "from typing import List\n",
    "import argparse"
   ]
  },
  {
   "cell_type": "markdown",
   "metadata": {},
   "source": [
    "## Config"
   ]
  },
  {
   "cell_type": "code",
   "execution_count": 41,
   "metadata": {
    "collapsed": true
   },
   "outputs": [],
   "source": [
    "SQL_PATH = '../sql/'\n",
    "OUTPUT_PATH = '/mnt/windows_mount/FILE/'\n",
    "\n",
    "projectid = 'ts-official-website'\n",
    "private_key = \"../key/TS-Official-Website-d438f1c2b14d.json\"\n",
    "\n",
    "configuration = {\n",
    "   'query': {\n",
    "     \"useQueryCache\": True\n",
    "   }\n",
    "}"
   ]
  },
  {
   "cell_type": "markdown",
   "metadata": {},
   "source": [
    "### Logging"
   ]
  },
  {
   "cell_type": "code",
   "execution_count": 4,
   "metadata": {
    "collapsed": true
   },
   "outputs": [],
   "source": [
    "pass"
   ]
  },
  {
   "cell_type": "markdown",
   "metadata": {},
   "source": [
    "### SQL Loader"
   ]
  },
  {
   "cell_type": "code",
   "execution_count": 11,
   "metadata": {},
   "outputs": [
    {
     "data": {
      "text/plain": [
       "[PosixPath('/home/ts1050391/Dropbox/Taishin/taishin_works/ga_data_fetch/sql/GA_MAIN_HITS_EVENT_INFO.sql'),\n",
       " PosixPath('/home/ts1050391/Dropbox/Taishin/taishin_works/ga_data_fetch/sql/GA_MAIN_HITS_CUSTOM_METRICS.sql'),\n",
       " PosixPath('/home/ts1050391/Dropbox/Taishin/taishin_works/ga_data_fetch/sql/GA_MAIN_HITS.sql'),\n",
       " PosixPath('/home/ts1050391/Dropbox/Taishin/taishin_works/ga_data_fetch/sql/GA_MAIN_CUSTOM_DIMENSIONS.sql'),\n",
       " PosixPath('/home/ts1050391/Dropbox/Taishin/taishin_works/ga_data_fetch/sql/GA_MAIN_HITS_PAGE.sql'),\n",
       " PosixPath('/home/ts1050391/Dropbox/Taishin/taishin_works/ga_data_fetch/sql/GA_MAIN_HITS_SOCIAL.sql'),\n",
       " PosixPath('/home/ts1050391/Dropbox/Taishin/taishin_works/ga_data_fetch/sql/GA_MAIN.sql'),\n",
       " PosixPath('/home/ts1050391/Dropbox/Taishin/taishin_works/ga_data_fetch/sql/GA_MAIN_TRAFFIC_SOURCE.sql'),\n",
       " PosixPath('/home/ts1050391/Dropbox/Taishin/taishin_works/ga_data_fetch/sql/GA_MAIN_TOTALS.sql'),\n",
       " PosixPath('/home/ts1050391/Dropbox/Taishin/taishin_works/ga_data_fetch/sql/GA_MAIN_DEVICE.sql'),\n",
       " PosixPath('/home/ts1050391/Dropbox/Taishin/taishin_works/ga_data_fetch/sql/GA_MAIN_HITS_CONTENT_GROUP.sql'),\n",
       " PosixPath('/home/ts1050391/Dropbox/Taishin/taishin_works/ga_data_fetch/sql/GA_MAIN_HITS_APP_INFO.sql'),\n",
       " PosixPath('/home/ts1050391/Dropbox/Taishin/taishin_works/ga_data_fetch/sql/GA_MAIN_ADWORDS_CLICK_INFO.TARGETING.sql'),\n",
       " PosixPath('/home/ts1050391/Dropbox/Taishin/taishin_works/ga_data_fetch/sql/GA_MAIN_GEO_NETWORK.sql'),\n",
       " PosixPath('/home/ts1050391/Dropbox/Taishin/taishin_works/ga_data_fetch/sql/GA_MAIN_HITS_CUSTOM_DIMENSIONS.sql'),\n",
       " PosixPath('/home/ts1050391/Dropbox/Taishin/taishin_works/ga_data_fetch/sql/GA_MAIN_ADWORDS_CLICK_INFO.sql'),\n",
       " PosixPath('/home/ts1050391/Dropbox/Taishin/taishin_works/ga_data_fetch/sql/GA_MAIN_HITS_CONTENT_INFO.sql'),\n",
       " PosixPath('/home/ts1050391/Dropbox/Taishin/taishin_works/ga_data_fetch/sql/GA_MAIN_HITS_CUSTOM_VARIABLES.sql')]"
      ]
     },
     "execution_count": 11,
     "metadata": {},
     "output_type": "execute_result"
    }
   ],
   "source": [
    "sql_path = Path(SQL_PATH)\n",
    "list(sql_path.resolve().glob('*.sql'))"
   ]
  },
  {
   "cell_type": "code",
   "execution_count": 45,
   "metadata": {
    "collapsed": true,
    "scrolled": true
   },
   "outputs": [],
   "source": [
    "sql_files = sql_path.resolve().glob('*.sql')\n",
    "\n",
    "sqls = []\n",
    "for _, file_path in enumerate(sql_files):\n",
    "    with open(file_path, 'r', encoding='utf8') as file:\n",
    "        try:\n",
    "            sqls.append(file.read())\n",
    "        except Exception as e:\n",
    "            print(e)"
   ]
  },
  {
   "cell_type": "code",
   "execution_count": 7,
   "metadata": {},
   "outputs": [
    {
     "data": {
      "text/plain": [
       "18"
      ]
     },
     "execution_count": 7,
     "metadata": {},
     "output_type": "execute_result"
    }
   ],
   "source": [
    "len(sqls)"
   ]
  },
  {
   "cell_type": "markdown",
   "metadata": {},
   "source": [
    "### get_bq_result"
   ]
  },
  {
   "cell_type": "code",
   "execution_count": 58,
   "metadata": {},
   "outputs": [
    {
     "name": "stdout",
     "output_type": "stream",
     "text": [
      "--GA_MAIN_HITS--\n",
      "--官網--\n",
      "\n",
      "SELECT  TO_HEX(SHA256(Concat(cast(FullvisitorID as string),\"_\",cast(VISITID as string)))) as GA_MAIN_NO ,\n",
      "        \"Official_Web\" as DATASOURCE,\n",
      "        FullvisitorID as FULL_VISITOR_ID,\n",
      "        VISITID as VISIT_ID,\n",
      "        HITS.hitnumber as HIT_NUMBER,\n",
      "        HITS.hour as HOUR,\n",
      "        HITS.isEntrance as IS_ENTRANCE,\n",
      "        HITS.isEXIT as IS_EXIT,\n",
      "        HITS.isInteraction AS IS_INTERACTION,\n",
      "        HITS.minute as MINUTE,\n",
      "        HITS.TIME as TIME,\n",
      "        HITS.REFerer as REFERER,\n",
      "        hits.type as TYPE\n",
      "FROM `ts-official-website.118166279.ga_sessions_*`,\n",
      "        UNNEST(hits) as hits\n",
      "WHERE _TABLE_SUFFIX BETWEEN '20180314' and '20180314'\n"
     ]
    }
   ],
   "source": [
    "sql = sqls[2].format(start_date='20180314', end_date='20180314')\n",
    "print(sql)"
   ]
  },
  {
   "cell_type": "code",
   "execution_count": 59,
   "metadata": {
    "collapsed": true
   },
   "outputs": [],
   "source": [
    "%%time\n",
    "\n",
    "df = read_gbq(\n",
    "    sql,\n",
    "    private_key=private_key,\n",
    "    project_id=projectid,\n",
    "    configuration=configuration,\n",
    "    dialect='standard'\n",
    ")"
   ]
  },
  {
   "cell_type": "code",
   "execution_count": 60,
   "metadata": {},
   "outputs": [
    {
     "data": {
      "text/html": [
       "<div>\n",
       "<style scoped>\n",
       "    .dataframe tbody tr th:only-of-type {\n",
       "        vertical-align: middle;\n",
       "    }\n",
       "\n",
       "    .dataframe tbody tr th {\n",
       "        vertical-align: top;\n",
       "    }\n",
       "\n",
       "    .dataframe thead th {\n",
       "        text-align: right;\n",
       "    }\n",
       "</style>\n",
       "<table border=\"1\" class=\"dataframe\">\n",
       "  <thead>\n",
       "    <tr style=\"text-align: right;\">\n",
       "      <th></th>\n",
       "      <th>GA_MAIN_NO</th>\n",
       "      <th>DATASOURCE</th>\n",
       "      <th>FULL_VISITOR_ID</th>\n",
       "      <th>VISIT_ID</th>\n",
       "      <th>HIT_NUMBER</th>\n",
       "      <th>HOUR</th>\n",
       "      <th>IS_ENTRANCE</th>\n",
       "      <th>IS_EXIT</th>\n",
       "      <th>IS_INTERACTION</th>\n",
       "      <th>MINUTE</th>\n",
       "      <th>TIME</th>\n",
       "      <th>REFERER</th>\n",
       "      <th>TYPE</th>\n",
       "    </tr>\n",
       "  </thead>\n",
       "  <tbody>\n",
       "    <tr>\n",
       "      <th>0</th>\n",
       "      <td>ca62116aeae6c4f6171239349ef56a69710a34157e69a5...</td>\n",
       "      <td>Official_Web</td>\n",
       "      <td>6336352424218817447</td>\n",
       "      <td>1520990255</td>\n",
       "      <td>1</td>\n",
       "      <td>9</td>\n",
       "      <td>True</td>\n",
       "      <td>None</td>\n",
       "      <td>True</td>\n",
       "      <td>17</td>\n",
       "      <td>0</td>\n",
       "      <td>None</td>\n",
       "      <td>PAGE</td>\n",
       "    </tr>\n",
       "    <tr>\n",
       "      <th>1</th>\n",
       "      <td>ca62116aeae6c4f6171239349ef56a69710a34157e69a5...</td>\n",
       "      <td>Official_Web</td>\n",
       "      <td>6336352424218817447</td>\n",
       "      <td>1520990255</td>\n",
       "      <td>2</td>\n",
       "      <td>9</td>\n",
       "      <td>None</td>\n",
       "      <td>None</td>\n",
       "      <td>True</td>\n",
       "      <td>17</td>\n",
       "      <td>4344</td>\n",
       "      <td>None</td>\n",
       "      <td>PAGE</td>\n",
       "    </tr>\n",
       "    <tr>\n",
       "      <th>2</th>\n",
       "      <td>ca62116aeae6c4f6171239349ef56a69710a34157e69a5...</td>\n",
       "      <td>Official_Web</td>\n",
       "      <td>6336352424218817447</td>\n",
       "      <td>1520990255</td>\n",
       "      <td>3</td>\n",
       "      <td>9</td>\n",
       "      <td>None</td>\n",
       "      <td>None</td>\n",
       "      <td>True</td>\n",
       "      <td>17</td>\n",
       "      <td>10216</td>\n",
       "      <td>None</td>\n",
       "      <td>PAGE</td>\n",
       "    </tr>\n",
       "    <tr>\n",
       "      <th>3</th>\n",
       "      <td>ca62116aeae6c4f6171239349ef56a69710a34157e69a5...</td>\n",
       "      <td>Official_Web</td>\n",
       "      <td>6336352424218817447</td>\n",
       "      <td>1520990255</td>\n",
       "      <td>4</td>\n",
       "      <td>9</td>\n",
       "      <td>None</td>\n",
       "      <td>None</td>\n",
       "      <td>True</td>\n",
       "      <td>17</td>\n",
       "      <td>19624</td>\n",
       "      <td>None</td>\n",
       "      <td>PAGE</td>\n",
       "    </tr>\n",
       "    <tr>\n",
       "      <th>4</th>\n",
       "      <td>ca62116aeae6c4f6171239349ef56a69710a34157e69a5...</td>\n",
       "      <td>Official_Web</td>\n",
       "      <td>6336352424218817447</td>\n",
       "      <td>1520990255</td>\n",
       "      <td>5</td>\n",
       "      <td>9</td>\n",
       "      <td>None</td>\n",
       "      <td>None</td>\n",
       "      <td>True</td>\n",
       "      <td>17</td>\n",
       "      <td>23008</td>\n",
       "      <td>None</td>\n",
       "      <td>PAGE</td>\n",
       "    </tr>\n",
       "    <tr>\n",
       "      <th>5</th>\n",
       "      <td>ca62116aeae6c4f6171239349ef56a69710a34157e69a5...</td>\n",
       "      <td>Official_Web</td>\n",
       "      <td>6336352424218817447</td>\n",
       "      <td>1520990255</td>\n",
       "      <td>6</td>\n",
       "      <td>9</td>\n",
       "      <td>None</td>\n",
       "      <td>None</td>\n",
       "      <td>True</td>\n",
       "      <td>18</td>\n",
       "      <td>37856</td>\n",
       "      <td>None</td>\n",
       "      <td>PAGE</td>\n",
       "    </tr>\n",
       "    <tr>\n",
       "      <th>6</th>\n",
       "      <td>ca62116aeae6c4f6171239349ef56a69710a34157e69a5...</td>\n",
       "      <td>Official_Web</td>\n",
       "      <td>6336352424218817447</td>\n",
       "      <td>1520990255</td>\n",
       "      <td>7</td>\n",
       "      <td>9</td>\n",
       "      <td>None</td>\n",
       "      <td>None</td>\n",
       "      <td>True</td>\n",
       "      <td>18</td>\n",
       "      <td>43208</td>\n",
       "      <td>None</td>\n",
       "      <td>PAGE</td>\n",
       "    </tr>\n",
       "    <tr>\n",
       "      <th>7</th>\n",
       "      <td>ca62116aeae6c4f6171239349ef56a69710a34157e69a5...</td>\n",
       "      <td>Official_Web</td>\n",
       "      <td>6336352424218817447</td>\n",
       "      <td>1520990255</td>\n",
       "      <td>8</td>\n",
       "      <td>9</td>\n",
       "      <td>None</td>\n",
       "      <td>None</td>\n",
       "      <td>True</td>\n",
       "      <td>18</td>\n",
       "      <td>48992</td>\n",
       "      <td>None</td>\n",
       "      <td>PAGE</td>\n",
       "    </tr>\n",
       "    <tr>\n",
       "      <th>8</th>\n",
       "      <td>ca62116aeae6c4f6171239349ef56a69710a34157e69a5...</td>\n",
       "      <td>Official_Web</td>\n",
       "      <td>6336352424218817447</td>\n",
       "      <td>1520990255</td>\n",
       "      <td>9</td>\n",
       "      <td>9</td>\n",
       "      <td>None</td>\n",
       "      <td>None</td>\n",
       "      <td>True</td>\n",
       "      <td>18</td>\n",
       "      <td>53344</td>\n",
       "      <td>None</td>\n",
       "      <td>PAGE</td>\n",
       "    </tr>\n",
       "    <tr>\n",
       "      <th>9</th>\n",
       "      <td>ca62116aeae6c4f6171239349ef56a69710a34157e69a5...</td>\n",
       "      <td>Official_Web</td>\n",
       "      <td>6336352424218817447</td>\n",
       "      <td>1520990255</td>\n",
       "      <td>10</td>\n",
       "      <td>9</td>\n",
       "      <td>None</td>\n",
       "      <td>None</td>\n",
       "      <td>True</td>\n",
       "      <td>18</td>\n",
       "      <td>58360</td>\n",
       "      <td>None</td>\n",
       "      <td>PAGE</td>\n",
       "    </tr>\n",
       "  </tbody>\n",
       "</table>\n",
       "</div>"
      ],
      "text/plain": [
       "                                          GA_MAIN_NO    DATASOURCE  \\\n",
       "0  ca62116aeae6c4f6171239349ef56a69710a34157e69a5...  Official_Web   \n",
       "1  ca62116aeae6c4f6171239349ef56a69710a34157e69a5...  Official_Web   \n",
       "2  ca62116aeae6c4f6171239349ef56a69710a34157e69a5...  Official_Web   \n",
       "3  ca62116aeae6c4f6171239349ef56a69710a34157e69a5...  Official_Web   \n",
       "4  ca62116aeae6c4f6171239349ef56a69710a34157e69a5...  Official_Web   \n",
       "5  ca62116aeae6c4f6171239349ef56a69710a34157e69a5...  Official_Web   \n",
       "6  ca62116aeae6c4f6171239349ef56a69710a34157e69a5...  Official_Web   \n",
       "7  ca62116aeae6c4f6171239349ef56a69710a34157e69a5...  Official_Web   \n",
       "8  ca62116aeae6c4f6171239349ef56a69710a34157e69a5...  Official_Web   \n",
       "9  ca62116aeae6c4f6171239349ef56a69710a34157e69a5...  Official_Web   \n",
       "\n",
       "       FULL_VISITOR_ID    VISIT_ID  HIT_NUMBER  HOUR IS_ENTRANCE IS_EXIT  \\\n",
       "0  6336352424218817447  1520990255           1     9        True    None   \n",
       "1  6336352424218817447  1520990255           2     9        None    None   \n",
       "2  6336352424218817447  1520990255           3     9        None    None   \n",
       "3  6336352424218817447  1520990255           4     9        None    None   \n",
       "4  6336352424218817447  1520990255           5     9        None    None   \n",
       "5  6336352424218817447  1520990255           6     9        None    None   \n",
       "6  6336352424218817447  1520990255           7     9        None    None   \n",
       "7  6336352424218817447  1520990255           8     9        None    None   \n",
       "8  6336352424218817447  1520990255           9     9        None    None   \n",
       "9  6336352424218817447  1520990255          10     9        None    None   \n",
       "\n",
       "   IS_INTERACTION  MINUTE   TIME REFERER  TYPE  \n",
       "0            True      17      0    None  PAGE  \n",
       "1            True      17   4344    None  PAGE  \n",
       "2            True      17  10216    None  PAGE  \n",
       "3            True      17  19624    None  PAGE  \n",
       "4            True      17  23008    None  PAGE  \n",
       "5            True      18  37856    None  PAGE  \n",
       "6            True      18  43208    None  PAGE  \n",
       "7            True      18  48992    None  PAGE  \n",
       "8            True      18  53344    None  PAGE  \n",
       "9            True      18  58360    None  PAGE  "
      ]
     },
     "execution_count": 60,
     "metadata": {},
     "output_type": "execute_result"
    }
   ],
   "source": [
    "df.head(10)"
   ]
  },
  {
   "cell_type": "markdown",
   "metadata": {},
   "source": [
    "## Refactor"
   ]
  },
  {
   "cell_type": "code",
   "execution_count": 148,
   "metadata": {},
   "outputs": [],
   "source": [
    "def main(argv: List[str]) -> int:\n",
    "    \n",
    "    # Arg parser\n",
    "    args = parse_args(argv[1:])\n",
    "    if args.conf_file:\n",
    "        config = ConfigParser.SafeConfigParser()\n",
    "        config.read([args.conf_file])\n",
    "        defaults = dict(config.items(\"Defaults\"))\n",
    "    \n",
    "    start_date = args.start_date  # '20180101'\n",
    "    end_date = args.end_date  # '20180101'\n",
    "    \n",
    "    # config\n",
    "    if args.config_file:\n",
    "        SQL_PATH = '../sql/'\n",
    "        PROJECT_ID = 'ts-official-website'\n",
    "        OUTPUT = '/mnt/windows_mount/FILE/'\n",
    "        KEY = \"../key/TS-Official-Website-d438f1c2b14d.json\"\n",
    "    else:\n",
    "        raise ValueError('Config file required.')\n",
    "\n",
    "    # Run\n",
    "    tic = datetime.now()\n",
    "    \n",
    "    sqls = load_sql(SQL_PATH)\n",
    "    \n",
    "    res = {}\n",
    "    for filename, sql in sqls.items():\n",
    "        res.update(save_bq_csv(filename, sql, PROJECT_ID, start_date, end_date, OUTPUT))\n",
    "    \n",
    "    res = pd.DataFrame.from_dict({'key': list(res.keys()), 'val': list(res.values())})\n",
    "    \n",
    "    print(res)\n",
    "    print('-------------------------------------------'\n",
    "          f'\\nDone. (Time elapsed: {datetime.now() - tic:.2f})')\n",
    "    \n",
    "    return 0"
   ]
  },
  {
   "cell_type": "code",
   "execution_count": null,
   "metadata": {
    "collapsed": true
   },
   "outputs": [],
   "source": [
    "def parse_args(argv: List[str]) -> argparse.Namespace:\n",
    "    \n",
    "    YESTERDAY = (datetime.today().date() + timedelta(-1)).strftime('%Y%m%d')\n",
    "    \n",
    "    parser = argparse.ArgumentParser()\n",
    "    parser.add_argument('--config', dest='config_file', required=True)\n",
    "    parser.add_argument('-s', 'start-date', dest='start_date', default=YESTERDAY)\n",
    "    parser.add_argument('-e', '--end-date', dest='end_date', default=YESTERDAY)"
   ]
  },
  {
   "cell_type": "code",
   "execution_count": 126,
   "metadata": {
    "collapsed": true
   },
   "outputs": [],
   "source": [
    "def load_sql(sql_path):\n",
    "    '''Read sql to dict'''\n",
    "    sql_files = Path(sql_path).resolve().glob('*.sql')\n",
    "\n",
    "    sqls = {}\n",
    "    for _, file_path in enumerate(sql_files):\n",
    "        with open(file_path, 'r', encoding='utf8') as file:\n",
    "            try:\n",
    "                sql_str = file.read()\n",
    "                sqls[file_path.stem] = sql_str\n",
    "            except Exception as e:\n",
    "                print(e)\n",
    "    \n",
    "    return sqls"
   ]
  },
  {
   "cell_type": "code",
   "execution_count": 127,
   "metadata": {
    "collapsed": true
   },
   "outputs": [],
   "source": [
    "def save_bq_csv(filename, sql, projectid, start_date, end_date, output):\n",
    "    \n",
    "    output = Path(output)\n",
    "    if not output.is_dir():\n",
    "        raise ValueError(f'`output` must be a folder path ({output})')\n",
    "    \n",
    "    res = {}\n",
    "    for data_date in _dates_between(start_date, end_date):\n",
    "        out_file = f'{filename}_{data_date}.csv'\n",
    "        out_path = output / out_file\n",
    "        print(f'Saving file: {str(out_path)}')\n",
    "        res[out_file] = save_bq_csv_oneday(sql, projectid, data_date, output=str(out_path))\n",
    "    \n",
    "    return res"
   ]
  },
  {
   "cell_type": "code",
   "execution_count": 128,
   "metadata": {
    "collapsed": true
   },
   "outputs": [],
   "source": [
    "def save_bq_csv_oneday(sql, projectid, data_date, output, dialect='standard'):\n",
    "    \n",
    "    configuration = {\n",
    "       'query': {\n",
    "         \"useQueryCache\": True\n",
    "       }\n",
    "    }\n",
    "\n",
    "    try:\n",
    "        df = read_gbq(\n",
    "            sql.format(start_date=data_date, end_date=data_date),\n",
    "            private_key=KEY,\n",
    "            project_id=projectid,\n",
    "            configuration=configuration,\n",
    "            dialect=dialect\n",
    "        )\n",
    "\n",
    "        df.to_csv(output, index=False)\n",
    "        return df.shape[0]\n",
    "    except Exception as e:\n",
    "        print(e)\n",
    "        return np.NaN"
   ]
  },
  {
   "cell_type": "code",
   "execution_count": 129,
   "metadata": {
    "collapsed": true
   },
   "outputs": [],
   "source": [
    "def _dates_between(start_date, end_date):\n",
    "    \n",
    "    def _date_range(date1, date2):\n",
    "        for n in range(int((date2 - date1).days) + 1):\n",
    "            yield date1 + timedelta(n)\n",
    "    \n",
    "    start_date = datetime.strptime(start_date, '%Y%m%d').date()\n",
    "    end_date = datetime.strptime(end_date, '%Y%m%d').date()\n",
    "    \n",
    "    for dt in _date_range(start_date, end_date):\n",
    "        yield dt.strftime(\"%Y%m%d\")"
   ]
  },
  {
   "cell_type": "markdown",
   "metadata": {},
   "source": [
    "### Run"
   ]
  },
  {
   "cell_type": "code",
   "execution_count": 143,
   "metadata": {
    "collapsed": true
   },
   "outputs": [],
   "source": [
    "# config\n",
    "SQL_PATH = '../sql/'\n",
    "OUTPUT = '/mnt/windows_mount/FILE/'\n",
    "START_DATE = '20180101'\n",
    "END_DATE = '20180101'\n",
    "\n",
    "# BigQuery\n",
    "projectid = 'ts-official-website'\n",
    "private_key = \"../key/TS-Official-Website-d438f1c2b14d.json\""
   ]
  },
  {
   "cell_type": "code",
   "execution_count": 131,
   "metadata": {
    "collapsed": true
   },
   "outputs": [],
   "source": [
    "sqls = load_sql(SQL_PATH)"
   ]
  },
  {
   "cell_type": "code",
   "execution_count": 132,
   "metadata": {},
   "outputs": [
    {
     "name": "stdout",
     "output_type": "stream",
     "text": [
      "('GA_MAIN_HITS_CUSTOM_VARIABLES', \"--GA_MAIN_HITS_CUSTOM_VARIABLES--\\n--行銷平台--\\n\\nSELECT TO_HEX(SHA256(Concat(cast(FullvisitorID as string),'_',cast(VISITID as string)))) AS GA_MAIN_NO,\\n\\t   FullvisitorID as FULL_VISITOR_ID ,visitID as VISIT_ID ,h.hitNumber as HIT_NUMBER ,\\n\\t   hcv.index AS INDEX, \\n\\t   hcv.customVarName AS CUSTOM_VAR_NAME, \\n\\t   hcv.customVarValue AS CUSTOM_VAR_VALUE\\nFROM `ts-official-website.164284491.ga_sessions_*`,\\n\\t   UNNEST(hits) AS h,\\n\\t   UNNEST(h.customVariables) AS hcv\\nWHERE _TABLE_SUFFIX BETWEEN '{start_date}' and '{end_date}'\")\n"
     ]
    }
   ],
   "source": [
    "print(list(sqls.items())[17])"
   ]
  },
  {
   "cell_type": "code",
   "execution_count": 88,
   "metadata": {
    "scrolled": true
   },
   "outputs": [
    {
     "data": {
      "text/plain": [
       "['20180130',\n",
       " '20180131',\n",
       " '20180201',\n",
       " '20180202',\n",
       " '20180203',\n",
       " '20180204',\n",
       " '20180205']"
      ]
     },
     "execution_count": 88,
     "metadata": {},
     "output_type": "execute_result"
    }
   ],
   "source": [
    "list(_dates_between('20180130', '20180205'))"
   ]
  },
  {
   "cell_type": "code",
   "execution_count": 133,
   "metadata": {
    "scrolled": true
   },
   "outputs": [
    {
     "data": {
      "text/plain": [
       "'__main__'"
      ]
     },
     "execution_count": 133,
     "metadata": {},
     "output_type": "execute_result"
    }
   ],
   "source": [
    "if __name__ == '__main__':\n",
    "    res = main(['run.py', ''])"
   ]
  }
 ],
 "metadata": {
  "kernelspec": {
   "display_name": "venv",
   "language": "python",
   "name": "venv"
  },
  "language_info": {
   "codemirror_mode": {
    "name": "ipython",
    "version": 3
   },
   "file_extension": ".py",
   "mimetype": "text/x-python",
   "name": "python",
   "nbconvert_exporter": "python",
   "pygments_lexer": "ipython3",
   "version": "3.6.5"
  }
 },
 "nbformat": 4,
 "nbformat_minor": 2
}
