{
 "cells": [
  {
   "cell_type": "code",
   "execution_count": 2,
   "metadata": {
    "collapsed": true
   },
   "outputs": [],
   "source": [
    "import pandas as pd\n",
    "from pandas_gbq import read_gbq\n",
    "import logging\n",
    "from pathlib import Path\n",
    "from datetime import datetime"
   ]
  },
  {
   "cell_type": "markdown",
   "metadata": {},
   "source": [
    "## Config"
   ]
  },
  {
   "cell_type": "code",
   "execution_count": 41,
   "metadata": {
    "collapsed": true
   },
   "outputs": [],
   "source": [
    "SQL_PATH = '../sql/'\n",
    "OUTPUT_PATH = '/mnt/windows_mount/FILE/'\n",
    "\n",
    "projectid = 'ts-official-website'\n",
    "private_key = \"../key/TS-Official-Website-d438f1c2b14d.json\"\n",
    "\n",
    "configuration = {\n",
    "   'query': {\n",
    "     \"useQueryCache\": True\n",
    "   }\n",
    "}"
   ]
  },
  {
   "cell_type": "markdown",
   "metadata": {},
   "source": [
    "### Logging"
   ]
  },
  {
   "cell_type": "code",
   "execution_count": 4,
   "metadata": {
    "collapsed": true
   },
   "outputs": [],
   "source": [
    "pass"
   ]
  },
  {
   "cell_type": "markdown",
   "metadata": {},
   "source": [
    "### SQL Loader"
   ]
  },
  {
   "cell_type": "code",
   "execution_count": 11,
   "metadata": {},
   "outputs": [
    {
     "data": {
      "text/plain": [
       "[PosixPath('/home/ts1050391/Dropbox/Taishin/taishin_works/ga_data_fetch/sql/GA_MAIN_HITS_EVENT_INFO.sql'),\n",
       " PosixPath('/home/ts1050391/Dropbox/Taishin/taishin_works/ga_data_fetch/sql/GA_MAIN_HITS_CUSTOM_METRICS.sql'),\n",
       " PosixPath('/home/ts1050391/Dropbox/Taishin/taishin_works/ga_data_fetch/sql/GA_MAIN_HITS.sql'),\n",
       " PosixPath('/home/ts1050391/Dropbox/Taishin/taishin_works/ga_data_fetch/sql/GA_MAIN_CUSTOM_DIMENSIONS.sql'),\n",
       " PosixPath('/home/ts1050391/Dropbox/Taishin/taishin_works/ga_data_fetch/sql/GA_MAIN_HITS_PAGE.sql'),\n",
       " PosixPath('/home/ts1050391/Dropbox/Taishin/taishin_works/ga_data_fetch/sql/GA_MAIN_HITS_SOCIAL.sql'),\n",
       " PosixPath('/home/ts1050391/Dropbox/Taishin/taishin_works/ga_data_fetch/sql/GA_MAIN.sql'),\n",
       " PosixPath('/home/ts1050391/Dropbox/Taishin/taishin_works/ga_data_fetch/sql/GA_MAIN_TRAFFIC_SOURCE.sql'),\n",
       " PosixPath('/home/ts1050391/Dropbox/Taishin/taishin_works/ga_data_fetch/sql/GA_MAIN_TOTALS.sql'),\n",
       " PosixPath('/home/ts1050391/Dropbox/Taishin/taishin_works/ga_data_fetch/sql/GA_MAIN_DEVICE.sql'),\n",
       " PosixPath('/home/ts1050391/Dropbox/Taishin/taishin_works/ga_data_fetch/sql/GA_MAIN_HITS_CONTENT_GROUP.sql'),\n",
       " PosixPath('/home/ts1050391/Dropbox/Taishin/taishin_works/ga_data_fetch/sql/GA_MAIN_HITS_APP_INFO.sql'),\n",
       " PosixPath('/home/ts1050391/Dropbox/Taishin/taishin_works/ga_data_fetch/sql/GA_MAIN_ADWORDS_CLICK_INFO.TARGETING.sql'),\n",
       " PosixPath('/home/ts1050391/Dropbox/Taishin/taishin_works/ga_data_fetch/sql/GA_MAIN_GEO_NETWORK.sql'),\n",
       " PosixPath('/home/ts1050391/Dropbox/Taishin/taishin_works/ga_data_fetch/sql/GA_MAIN_HITS_CUSTOM_DIMENSIONS.sql'),\n",
       " PosixPath('/home/ts1050391/Dropbox/Taishin/taishin_works/ga_data_fetch/sql/GA_MAIN_ADWORDS_CLICK_INFO.sql'),\n",
       " PosixPath('/home/ts1050391/Dropbox/Taishin/taishin_works/ga_data_fetch/sql/GA_MAIN_HITS_CONTENT_INFO.sql'),\n",
       " PosixPath('/home/ts1050391/Dropbox/Taishin/taishin_works/ga_data_fetch/sql/GA_MAIN_HITS_CUSTOM_VARIABLES.sql')]"
      ]
     },
     "execution_count": 11,
     "metadata": {},
     "output_type": "execute_result"
    }
   ],
   "source": [
    "sql_path = Path(SQL_PATH)\n",
    "list(sql_path.resolve().glob('*.sql'))"
   ]
  },
  {
   "cell_type": "code",
   "execution_count": 45,
   "metadata": {
    "scrolled": true
   },
   "outputs": [],
   "source": [
    "sql_files = sql_path.resolve().glob('*.sql')\n",
    "\n",
    "sqls = []\n",
    "for _, file_path in enumerate(sql_files):\n",
    "    with open(file_path, 'r', encoding='utf8') as file:\n",
    "        try:\n",
    "            sqls.append(file.read())\n",
    "        except Exception as e:\n",
    "            print(e)"
   ]
  },
  {
   "cell_type": "code",
   "execution_count": 7,
   "metadata": {},
   "outputs": [
    {
     "data": {
      "text/plain": [
       "18"
      ]
     },
     "execution_count": 7,
     "metadata": {},
     "output_type": "execute_result"
    }
   ],
   "source": [
    "len(sqls)"
   ]
  },
  {
   "cell_type": "markdown",
   "metadata": {},
   "source": [
    "### get_bq_result"
   ]
  },
  {
   "cell_type": "code",
   "execution_count": 54,
   "metadata": {},
   "outputs": [
    {
     "name": "stdout",
     "output_type": "stream",
     "text": [
      "--GA_MAIN_HITS_CUSTOM_VARIABLES--\n",
      "--行銷平台--\n",
      "\n",
      "SELECT TO_HEX(SHA256(Concat(cast(FullvisitorID as string),'_',cast(VISITID as string)))) AS GA_MAIN_NO,\n",
      "\t   FullvisitorID as FULL_VISITOR_ID ,visitID as VISIT_ID ,h.hitNumber as HIT_NUMBER ,\n",
      "\t   hcv.index AS INDEX, \n",
      "\t   hcv.customVarName AS CUSTOM_VAR_NAME, \n",
      "\t   hcv.customVarValue AS CUSTOM_VAR_VALUE\n",
      "FROM `ts-official-website.164284491.ga_sessions_*`,\n",
      "\t   UNNEST(hits) AS h,\n",
      "\t   UNNEST(h.customVariables) AS hcv\n",
      "WHERE _TABLE_SUFFIX BETWEEN '20180314' and '20180314'\n"
     ]
    }
   ],
   "source": [
    "sql = sqls[17].format(start_date='20180314', end_date='20180314')\n",
    "print(sql)"
   ]
  },
  {
   "cell_type": "code",
   "execution_count": 49,
   "metadata": {},
   "outputs": [],
   "source": [
    "df = read_gbq(\n",
    "    sql,\n",
    "    private_key=private_key,\n",
    "    project_id=projectid,\n",
    "    configuration=configuration,\n",
    "    dialect='standard'\n",
    ")\n"
   ]
  },
  {
   "cell_type": "code",
   "execution_count": 52,
   "metadata": {},
   "outputs": [
    {
     "data": {
      "text/html": [
       "<div>\n",
       "<style scoped>\n",
       "    .dataframe tbody tr th:only-of-type {\n",
       "        vertical-align: middle;\n",
       "    }\n",
       "\n",
       "    .dataframe tbody tr th {\n",
       "        vertical-align: top;\n",
       "    }\n",
       "\n",
       "    .dataframe thead th {\n",
       "        text-align: right;\n",
       "    }\n",
       "</style>\n",
       "<table border=\"1\" class=\"dataframe\">\n",
       "  <thead>\n",
       "    <tr style=\"text-align: right;\">\n",
       "      <th></th>\n",
       "      <th>GA_MAIN_NO</th>\n",
       "      <th>FULL_VISITOR_ID</th>\n",
       "      <th>VISIT_ID</th>\n",
       "      <th>HIT_NUMBER</th>\n",
       "      <th>INDEX</th>\n",
       "      <th>CUSTOM_VAR_NAME</th>\n",
       "      <th>CUSTOM_VAR_VALUE</th>\n",
       "    </tr>\n",
       "  </thead>\n",
       "  <tbody>\n",
       "  </tbody>\n",
       "</table>\n",
       "</div>"
      ],
      "text/plain": [
       "Empty DataFrame\n",
       "Columns: [GA_MAIN_NO, FULL_VISITOR_ID, VISIT_ID, HIT_NUMBER, INDEX, CUSTOM_VAR_NAME, CUSTOM_VAR_VALUE]\n",
       "Index: []"
      ]
     },
     "execution_count": 52,
     "metadata": {},
     "output_type": "execute_result"
    }
   ],
   "source": [
    "df"
   ]
  },
  {
   "cell_type": "code",
   "execution_count": 8,
   "metadata": {
    "collapsed": true
   },
   "outputs": [],
   "source": [
    "def save_bq_csv_oneday(sql, data_date, output):\n",
    "    \n",
    "    df = read_gbq(\n",
    "        sql.format(start_date=data_date, end_date=data_date),\n",
    "        private_key=private_key,\n",
    "        project_id=projectid,\n",
    "        configuration=configuration,\n",
    "        dialect='standard'\n",
    "    )\n",
    "    \n",
    "    df.to_csv(output, index=false)\n",
    "    \n",
    "    return True"
   ]
  },
  {
   "cell_type": "code",
   "execution_count": null,
   "metadata": {
    "collapsed": true
   },
   "outputs": [],
   "source": [
    "def _dates_between(start_date, end_date):\n",
    "    start_date = datetime.strptime(start_date)\n",
    "    end_date = datetime.strptime(end_date)\n",
    "    \n",
    "    "
   ]
  },
  {
   "cell_type": "code",
   "execution_count": null,
   "metadata": {
    "collapsed": true
   },
   "outputs": [],
   "source": [
    "def save_bq_csv(sql, start_date, end_date, output):\n",
    "    \n",
    "     \n",
    "    \n",
    "    \n",
    "    "
   ]
  },
  {
   "cell_type": "markdown",
   "metadata": {},
   "source": [
    "### Run"
   ]
  },
  {
   "cell_type": "code",
   "execution_count": 51,
   "metadata": {},
   "outputs": [
    {
     "name": "stdout",
     "output_type": "stream",
     "text": [
      "--GA_MAIN_HITS_CUSTOM_VARIABLES--\n",
      "--行銷平台--\n",
      "\n",
      "SELECT TO_HEX(SHA256(Concat(cast(FullvisitorID as string),'_',cast(VISITID as string)))) AS GA_MAIN_NO,\n",
      "\t   FullvisitorID as FULL_VISITOR_ID ,visitID as VISIT_ID ,h.hitNumber as HIT_NUMBER ,\n",
      "\t   hcv.index AS INDEX, \n",
      "\t   hcv.customVarName AS CUSTOM_VAR_NAME, \n",
      "\t   hcv.customVarValue AS CUSTOM_VAR_VALUE\n",
      "FROM `ts-official-website.164284491.ga_sessions_*`,\n",
      "\t   UNNEST(hits) AS h,\n",
      "\t   UNNEST(h.customVariables) AS hcv\n",
      "WHERE _TABLE_SUFFIX BETWEEN '{start_date}' and '{end_date}'\n"
     ]
    }
   ],
   "source": [
    "print(sqls[17])"
   ]
  },
  {
   "cell_type": "code",
   "execution_count": null,
   "metadata": {
    "collapsed": true
   },
   "outputs": [],
   "source": [
    "save_bq_csv()"
   ]
  }
 ],
 "metadata": {
  "kernelspec": {
   "display_name": "venv",
   "language": "python",
   "name": "venv"
  },
  "language_info": {
   "codemirror_mode": {
    "name": "ipython",
    "version": 3
   },
   "file_extension": ".py",
   "mimetype": "text/x-python",
   "name": "python",
   "nbconvert_exporter": "python",
   "pygments_lexer": "ipython3",
   "version": "3.6.5"
  }
 },
 "nbformat": 4,
 "nbformat_minor": 2
}
