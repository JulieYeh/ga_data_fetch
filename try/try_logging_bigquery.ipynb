{
 "cells": [
  {
   "cell_type": "code",
   "execution_count": 50,
   "metadata": {},
   "outputs": [],
   "source": [
    "import pandas as pd\n",
    "from pandas_gbq import read_gbq\n",
    "import logging\n",
    "from pathlib import Path\n",
    "from datetime import datetime"
   ]
  },
  {
   "cell_type": "markdown",
   "metadata": {},
   "source": [
    "## Config"
   ]
  },
  {
   "cell_type": "code",
   "execution_count": 3,
   "metadata": {},
   "outputs": [],
   "source": [
    "SQL_PATH = '../sql/'\n",
    "OUTPUT_PATH = '/mnt/windows_mount/FILE/'\n",
    "\n",
    "projectid = 'ts-official-website'\n",
    "private_key = \"key/TS-Official-Website-d438f1c2b14d.json\"\n",
    "\n",
    "configuration = {\n",
    "   'query': {\n",
    "     \"useQueryCache\": True\n",
    "   }\n",
    "}"
   ]
  },
  {
   "cell_type": "markdown",
   "metadata": {},
   "source": [
    "### Logging"
   ]
  },
  {
   "cell_type": "code",
   "execution_count": null,
   "metadata": {},
   "outputs": [],
   "source": []
  },
  {
   "cell_type": "markdown",
   "metadata": {},
   "source": [
    "### SQL Loader"
   ]
  },
  {
   "cell_type": "code",
   "execution_count": 31,
   "metadata": {},
   "outputs": [
    {
     "data": {
      "text/plain": [
       "[PosixPath('/home/ts1050391/Dropbox/Taishin/taishin_works/ga_data_fetch/sql/GA_MAIN_HITS_EVENT_INFO.sql'),\n",
       " PosixPath('/home/ts1050391/Dropbox/Taishin/taishin_works/ga_data_fetch/sql/GA_MAIN_HITS_CUSTOM_METRICS.sql'),\n",
       " PosixPath('/home/ts1050391/Dropbox/Taishin/taishin_works/ga_data_fetch/sql/GA_MAIN_HITS.sql'),\n",
       " PosixPath('/home/ts1050391/Dropbox/Taishin/taishin_works/ga_data_fetch/sql/GA_MAIN_CUSTOM_DIMENSIONS.sql'),\n",
       " PosixPath('/home/ts1050391/Dropbox/Taishin/taishin_works/ga_data_fetch/sql/GA_MAIN_HITS_PAGE.sql'),\n",
       " PosixPath('/home/ts1050391/Dropbox/Taishin/taishin_works/ga_data_fetch/sql/GA_MAIN_HITS_SOCIAL.sql'),\n",
       " PosixPath('/home/ts1050391/Dropbox/Taishin/taishin_works/ga_data_fetch/sql/GA_MAIN.sql'),\n",
       " PosixPath('/home/ts1050391/Dropbox/Taishin/taishin_works/ga_data_fetch/sql/GA_MAIN_TRAFFIC_SOURCE.sql'),\n",
       " PosixPath('/home/ts1050391/Dropbox/Taishin/taishin_works/ga_data_fetch/sql/GA_MAIN_TOTALS.sql'),\n",
       " PosixPath('/home/ts1050391/Dropbox/Taishin/taishin_works/ga_data_fetch/sql/GA_MAIN_DEVICE.sql'),\n",
       " PosixPath('/home/ts1050391/Dropbox/Taishin/taishin_works/ga_data_fetch/sql/GA_MAIN_HITS_CONTENT_GROUP.sql'),\n",
       " PosixPath('/home/ts1050391/Dropbox/Taishin/taishin_works/ga_data_fetch/sql/GA_MAIN_HITS_APP_INFO.sql'),\n",
       " PosixPath('/home/ts1050391/Dropbox/Taishin/taishin_works/ga_data_fetch/sql/GA_MAIN_ADWORDS_CLICK_INFO.TARGETING.sql'),\n",
       " PosixPath('/home/ts1050391/Dropbox/Taishin/taishin_works/ga_data_fetch/sql/GA_MAIN_GEO_NETWORK.sql'),\n",
       " PosixPath('/home/ts1050391/Dropbox/Taishin/taishin_works/ga_data_fetch/sql/GA_MAIN_HITS_CUSTOM_DIMENSIONS.sql'),\n",
       " PosixPath('/home/ts1050391/Dropbox/Taishin/taishin_works/ga_data_fetch/sql/GA_MAIN_ADWORDS_CLICK_INFO.sql'),\n",
       " PosixPath('/home/ts1050391/Dropbox/Taishin/taishin_works/ga_data_fetch/sql/GA_MAIN_HITS_CONTENT_INFO.sql'),\n",
       " PosixPath('/home/ts1050391/Dropbox/Taishin/taishin_works/ga_data_fetch/sql/GA_MAIN_HITS_CUSTOM_VARIABLES.sql')]"
      ]
     },
     "execution_count": 31,
     "metadata": {},
     "output_type": "execute_result"
    }
   ],
   "source": [
    "sql_path = Path(SQL_PATH)\n",
    "list(sql_path.resolve().glob('*.sql'))"
   ]
  },
  {
   "cell_type": "code",
   "execution_count": 19,
   "metadata": {},
   "outputs": [
    {
     "data": {
      "text/plain": [
       "['a']"
      ]
     },
     "execution_count": 19,
     "metadata": {},
     "output_type": "execute_result"
    }
   ],
   "source": [
    "sqls = []\n",
    "sqls.append('a')\n",
    "sqls"
   ]
  },
  {
   "cell_type": "code",
   "execution_count": 43,
   "metadata": {},
   "outputs": [
    {
     "data": {
      "text/plain": [
       "[0, 1, 2, 3, 4, 5, 6, 7, 8, 9]"
      ]
     },
     "execution_count": 43,
     "metadata": {},
     "output_type": "execute_result"
    }
   ],
   "source": [
    "_ = []\n",
    "\n",
    "for i in range(10):\n",
    "    _.append(i)\n",
    "    \n",
    "    \n",
    "_"
   ]
  },
  {
   "cell_type": "code",
   "execution_count": 49,
   "metadata": {
    "scrolled": true
   },
   "outputs": [
    {
     "data": {
      "text/plain": [
       "[\"--GA_MAIN_HITS_EVENT_INFO--\\n--行銷平台--\\n\\nSELECT TO_HEX(SHA256(Concat(cast(FullvisitorID as string),'_',cast(VISITID as string)))) as GA_MAIN_NO,\\n\\t   FullvisitorID as FULL_VISITOR_ID,\\n\\t   visitID as VISIT_ID,\\n\\t   h.hitNumber as HIT_NUMBER,\\n\\t   h.eventInfo.eventCategory as EVENT_CATEGORY, \\n\\t   h.eventInfo.eventAction as EVENT_ACTION, \\n\\t   h.eventInfo.eventLabel as EVENT_LABEL, \\n\\t   h.eventInfo.eventValue as EVENT_VALUE\\nFROM `ts-official-website.164284491.ga_sessions_*`,\\n\\t   UNNEST(hits) as h\\nWHERE _TABLE_SUFFIX BETWEEN '20180327' and '20180327'\",\n",
       " \"--GA_MAIN_HITS_CUSTOM_METRICS--\\n--行銷平台--\\n\\nSELECT TO_HEX(SHA256(Concat(cast(FullvisitorID as string),'_',cast(VISITID as string)))) AS GA_MAIN_NO ,\\n\\t   FullvisitorID as FULL_VISITOR_ID ,\\n\\t   visitID as VISIT_ID ,\\n\\t   h.hitNumber as HIT_NUMBER ,\\n\\t   hcm.index AS INDEX,\\n\\t   hcm.value AS VALUE\\nFROM `ts-official-website.164284491.ga_sessions_*`,\\n\\t   UNNEST(hits) AS h,\\n\\t   UNNEST(h.customMetrics) AS hcm\\nWHERE _TABLE_SUFFIX BETWEEN '20180327' and '20180327'\",\n",
       " '--GA_MAIN_HITS--\\n--官網--\\n\\nSELECT  TO_HEX(SHA256(Concat(cast(FullvisitorID as string),\"_\",cast(VISITID as string)))) as GA_MAIN_NO ,\\n        \"Official_Web\" as DATASOURCE,\\n        FullvisitorID as FULL_VISITOR_ID,\\n        VISITID as VISIT_ID,\\n        HITS.hitnumber as HIT_NUMBER,\\n        HITS.hour as HOUR,\\n        HITS.isEntrance as IS_ENTRANCE,\\n        HITS.isEXIT as IS_EXIT,\\n        HITS.isInteraction AS IS_INTERACTION,\\n        HITS.minute as MINUTE,\\n        HITS.TIME as TIME,\\n        HITS.REFerer as REFERER,\\n        hits.type as TYPE\\nFROM `ts-official-website.118166279.ga_sessions_*`,\\n        UNNEST(hits) as hits\\nWHERE _TABLE_SUFFIX BETWEEN \\'20180114\\' and \\'20180114\\'',\n",
       " '--GA_MAIN_CUSTOM_DIMENSIONS--\\n--官網--\\n\\nSELECT  TO_HEX(SHA256(Concat(cast(FullvisitorID as string),\"_\",cast(VISITID as string)))) as GA_MAIN_NO ,\\n        \"Official_Web\" as DATASOURCE,\\n        FullvisitorID as FULL_VISITOR_ID,\\n        VISITID as VISIT_ID,\\n        customdimensions.index as INDEX,\\n        customdimensions.value as VALUE\\nFROM `ts-official-website.118166279.ga_sessions_*`,\\n        UNNEST(customdimensions) as customdimensions\\nWHERE _TABLE_SUFFIX BETWEEN \\'20180114\\' and \\'20180114\\'',\n",
       " '--GA_MAIN_HITS_PAGE--\\n--官網--\\n\\n SELECT TO_HEX(SHA256(Concat(cast(FullvisitorID as string),\"_\",cast(VISITID as string)))) as GA_MAIN_NO ,\\n        \"Official_Web\" as DATASOURCE,\\n        FullvisitorID as FULL_VISITOR_ID,\\n        VISITID as VISIT_ID,\\n        hits.hitnumber as HIT_NUMBER,\\n        hits.page.pagepath as PAGE_PATH,\\n        hits.page.pagepathlevel1 as PAGE_PATH_LEVEL1,\\n        hits.page.pagepathlevel2 as PAGE_PATH_LEVEL2,\\n        hits.page.pagepathlevel3 as PAGE_PATH_LEVEL3,\\n        hits.page.pagepathlevel4 as PAGE_PATH_LEVEL4,\\n        hits.page.hostname as HOSTNAME,\\n        hits.page.pagetitle as PAGE_TITLE,\\n        hits.page.searchkeyword as SEARCH_KEYWORD,\\n        hits.page.searchcategory as SEARCH_CATEGORY\\nFROM `ts-official-website.118166279.ga_sessions_*`,\\n        UNNEST(hits) as hits     \\nWHERE _TABLE_SUFFIX BETWEEN \\'20180114\\' and \\'20180114\\'',\n",
       " '--GA_MAIN_HITS_SOCIAL--\\n--官網--\\n\\nSELECT  TO_HEX(SHA256(Concat(cast(FullvisitorID as string),\"_\",cast(VISITID as string)))) as GA_MAIN_NO ,\\n        \"Official_Web\" as DATASOURCE,\\n        FullvisitorID as FULL_VISITOR_ID,\\n        VISITID as VISIT_ID,\\n        hits.hitnumber as HIT_NUMBER,\\n        hits.social.hasSocialSourceReferral as HAS_SOCIAL_SOURCE_REFERAL,\\n        hits.social.socialinteractionaction as SOCIAL_INTERACTION_ACTION,\\n        hits.social.socialINTERACTIONNETWORK as SOCIAL_INTERACTION_NETWORK,\\n        hits.social.socialINTERACTIONNETWORKaction as SOCIAL_INTERACTION_NETWORK_ACTION,\\n        hits.social.socialinteractions as SOCIAL_INTERACTIONS,\\n        hits.social.socialinteractionTARGET as SOCIAL_INTERACTION_TARGET,\\n        hits.social.socialnetwork as SOCIAL_NETWORK,\\n        hits.social.uniquesocialinteractions as UNIQUE_SOCIAL_INTERACTIONS\\nFROM `ts-official-website.118166279.ga_sessions_*`,\\n        UNNEST(hits) as hits\\nWHERE _TABLE_SUFFIX BETWEEN \\'20180114\\' and \\'20180114\\'',\n",
       " '--GA_MAIN--\\n--官網--\\nSELECT\\n        TO_HEX(SHA256(Concat(cast(FullvisitorID as string),\"_\",cast(VISITID as string)))) as GA_MAIN_NO ,\\n        FullvisitorID as FULL_VISITOR_ID,\\n        VISITID as VISIT_ID,\\n        userID as USER_ID,\\n        visitNumber as VISIT_NUMBER,\\n        visitStartTime as VISIT_START_TIME,\\n        date as DATE,\\n        SocialEngagementType as SOCIAL_ENGAGEMENT_TYPE,\\n        CHANNELGROUPING as CHANNEL_GROUPING    \\nFROM `ts-official-website.118166279.ga_sessions_*`\\nWHERE _TABLE_SUFFIX BETWEEN \\'20180114\\'and \\'20180114\\'\\n',\n",
       " '  --GA_MAIN_TRAFFIC_SOURCE--\\n --官網--\\n \\n SELECT ROW_NUMBER() over() TRAFFIC_SOURCE_NO,\\n        TO_HEX(SHA256(Concat(cast(FullvisitorID as string),\"_\",cast(VISITID as string)))) as GA_MAIN_NO ,\\n        \"Official_Web\" as DATASOURCE,\\n        FullvisitorID as FULL_VISITOR_ID,\\n        VISITID as VISIT_ID,\\n        trafficsource.adContent as AD_CONTENT,\\n        trafficsource.campaign as CAMPAIGN,\\n        trafficsource.campaigncode as CAMPAIGN_CODE,\\n        trafficsource.isTrueDirect as IS_TRUE_DIRECT,\\n        trafficsource.keyword as KEYWORD,\\n        trafficsource.medium as MEDIUM,\\n        trafficsource.ReferralPath as REFERRAL_PATH,\\n        trafficsource.source as SOURCE\\nFROM `ts-official-website.118166279.ga_sessions_*`\\nWHERE _TABLE_SUFFIX BETWEEN \\'20180114\\' and \\'20180114\\'',\n",
       " '--GA_MAIN_TOTALS--\\n\\n SELECT TO_HEX(SHA256(Concat(cast(FullvisitorID as string),\"_\",cast(VISITID as string)))) as GA_MAIN_NO ,\\n        \"Official_Web\" as DATASOURCE,\\n        FullvisitorID as FULL_VISITOR_ID,\\n        VISITID as VISIT_ID,\\n        totals.bounces as BOUNCES,\\n        totals.hits as HITS,\\n        totals.newvisits as NEW_VISITS,\\n        totals.pageviews as PAGEVIEWS,\\n        totals.screenviews as SCREENVIEWS,\\n        totals.sessionqualitydim as SESSION_QUALITY_DIM,\\n        totals.timeonscreen as TIME_ON_SCREEN,\\n        totals.timeonsite as TIME_ON_SITE,\\n        totals.totaltransactionrevenue as TOTAL_TRANSACTION_REVENUE,\\n        totals.transactions as TRANSACTIONS,\\n        totals.visits as VISITS\\n    FROM `ts-official-website.118166279.ga_sessions_*`\\n    WHERE _TABLE_SUFFIX BETWEEN \\'20180114\\' and \\'20180114\\'',\n",
       " '--GA_MAIN_DEVICE--\\n--官網--\\n\\nSELECT  TO_HEX(SHA256(Concat(cast(FullvisitorID as string),\"_\",cast(VISITID as string)))) as GA_MAIN_NO ,\\n        \"Official_Web\" as DATASOURCE,\\n        FullvisitorID as FULL_VISITOR_ID,\\n        VISITID as VISIT_ID,\\n        device.browser as BROWSER ,\\n        device.browsersize as BROWSER_SIZE,\\n        device.browserversion as BROWSER_VERSION,\\n        device.devicecategory as DEVICE_CATEGORY,\\n        device.mobiledeviceinfo as MOBILE_DEVICE_INFO,\\n        device.mobiledevicemarketingname as MOBILE_DEVICE_MARKETING_NAME,\\n        device.mobiledevicemodel as MOBILE_DEVICE_MODEL,\\n        device.mobileinputselector as MOBILE_INPUT_SELECTOR,\\n        device.operatingsystem as OPERATING_SYSTEM,\\n        device.operatingsystemversion as OPERATING_SYSTEM_VERSION,\\n        device.mobiledevicebranding as MOBILE_DEVICE_BRANDING,\\n        device.language as LANGUAGE\\nFROM `ts-official-website.118166279.ga_sessions_*`\\nWHERE _TABLE_SUFFIX BETWEEN \\'20180114\\' and \\'20180114\\'',\n",
       " \"--GA_MAIN_HITS_CONTENT_GROUP--\\n--行銷平台--\\n\\nSELECT TO_HEX(SHA256(Concat(cast(FullvisitorID as string),'_',cast(VISITID as string)))) as GA_MAIN_NO,\\n\\t   FullvisitorID as FULL_VISITOR_ID,\\n\\t   visitID as VISIT_ID,\\n\\t   h.hitNumber as HIT_NUMBER,\\n\\t   h.contentGroup.contentGroup1 as CONTENT_GROUP_1,\\n\\t   h.contentGroup.contentGroup2 as CONTENT_GROUP_2,\\n\\t   h.contentGroup.contentGroup3 as CONTENT_GROUP_3,\\n\\t   h.contentGroup.contentGroup4 as CONTENT_GROUP_4,\\n\\t   h.contentGroup.contentGroup5 as CONTENT_GROUP_5,\\n\\t   h.contentGroup.previousContentGroup1 as PREVIOUS_CONTENT_GROUP_1,\\n\\t   h.contentGroup.previousContentGroup2 as PREVIOUS_CONTENT_GROUP_2,\\n\\t   h.contentGroup.previousContentGroup3 as PREVIOUS_CONTENT_GROUP_3,\\n\\t   h.contentGroup.previousContentGroup4 as PREVIOUS_CONTENT_GROUP_4,\\n\\t   h.contentGroup.previousContentGroup5 as PREVIOUS_CONTENT_GROUP_5,\\n\\t   h.contentGroup.contentGroupUniqueViews1 as UNIQUE_VIEWS_1,\\n\\t   h.contentGroup.contentGroupUniqueViews2 as UNIQUE_VIEWS_2,\\n\\t   h.contentGroup.contentGroupUniqueViews3 as UNIQUE_VIEWS_3,\\n\\t   h.contentGroup.contentGroupUniqueViews4 as UNIQUE_VIEWS_4,\\n\\t   h.contentGroup.contentGroupUniqueViews5 as UNIQUE_VIEWS_5\\nFROM `ts-official-website.164284491.ga_sessions_*`,\\n\\t   UNNEST(hits) as h\\nWHERE _TABLE_SUFFIX BETWEEN '20180327' and '20180327'\",\n",
       " \"--GA_MAIN_HITS_APP_INFO--\\n--行銷平台--\\n\\nSELECT TO_HEX(SHA256(Concat(cast(FullvisitorID as string),'_',cast(VISITID as string)))) as GA_MAIN_NO,\\n\\t   FullvisitorID as FULL_VISITOR_ID,\\n\\t   visitID as VISIT_ID,\\n\\t   h.hitNumber as HIT_NUMBER,\\n\\t   h.appInfo.name as NAME, \\n\\t   h.appInfo.version as VERSION, \\n\\t   h.appInfo.id as ID, \\n\\t   h.appInfo.installerId as INSTALLER_ID, \\n\\t   h.appInfo.appInstallerId as APP_INSTALLER_ID, \\n\\t   h.appInfo.appName as APP_NAME, \\n\\t   h.appInfo.appVersion as APP_VERSION, \\n\\t   h.appInfo.appId as APP_ID, \\n\\t   h.appInfo.screenName as SCREEN_NAME, \\n\\t   h.appInfo.landingScreenName as LANDING_SCREEN_NAME, \\n\\t   h.appInfo.exitScreenName as EXIT_SCREEN_NAME, \\n\\t   h.appInfo.screenDepth as SCREEN_DEPTH\\nFROM `ts-official-website.164284491.ga_sessions_*`,\\n\\t   UNNEST(hits) as h\\nWHERE _TABLE_SUFFIX BETWEEN '20180327' and '20180327'\",\n",
       " '--GA_MAIN_trafficsource.AdwordsClickInfo.TARGETINGCriteriaboom--\\n--官網--\\n\\nSELECT  TO_HEX(SHA256(Concat(cast(FullvisitorID as string),\"_\",cast(VISITID as string)))) as GA_MAIN_NO ,\\n        \"Official_Web\" as DATASOURCE,\\n        FullvisitorID as FULL_VISITOR_ID,\\n        VISITID as VISIT_ID,\\n        trafficsource.AdwordsClickInfo.TARGETINGCriteria.boomUserlistID as TARGETING_CRITERIA_BOOM_USERLIST_ID\\nFROM `ts-official-website.118166279.ga_sessions_*`\\nWHERE _TABLE_SUFFIX BETWEEN \\'20180114\\' and \\'20180114\\'',\n",
       " '--GA_MAIN_GEO_NETWORK--\\n--官網--\\n\\n SELECT TO_HEX(SHA256(Concat(cast(FullvisitorID as string),\"_\",cast(VISITID as string)))) as GA_MAIN_NO ,\\n        \"Official_Web\" as DATASOURCE,\\n        FullvisitorID as FULL_VISITOR_ID,\\n        VISITID as VISIT_ID,\\n        GEONETWORK.continent as CONTINENT,\\n        GEONETWORK.subcontinent as SUB_CONTINENT,\\n        GEONETWORK.country as COUNTRY,\\n        GEONETWORK.region as REGION,\\n        GEONETWORK.city as CITY,\\n        GEONETWORK.cityid as CITY_ID,\\n        GEONETWORK.latitude as LATITUDE,\\n        GEONETWORK.longitude as LONGGITUDE,\\n        GEONETWORK.networkdomain as NETWORK_DOMAIN,\\n        GEONETWORK.networklocation as NETWORK_LOCATION\\nFROM `ts-official-website.118166279.ga_sessions_*`,\\n        UNNEST(customdimensions) as customdimensions\\nWHERE _TABLE_SUFFIX BETWEEN \\'20180114\\' and \\'20180114\\'',\n",
       " \"--GA_MAIN_HITS_CUSTOM_DIMENSIONS--\\n--行銷平台--\\n\\nSELECT TO_HEX(SHA256(Concat(cast(FullvisitorID as string),'_',cast(VISITID as string)))) AS GA_MAIN_NO,\\n\\t   FullvisitorID as FULL_VISITOR_ID ,\\n\\t   visitID as VISIT_ID ,\\n\\t   h.hitNumber as HIT_NUMBER ,\\n\\t   hcd.index AS INDEX, \\n\\t   hcd.value AS VALUE\\nFROM `ts-official-website.164284491.ga_sessions_*`,\\n\\t   UNNEST(hits) AS h,\\n\\t   UNNEST(h.customDimensions) AS hcd\\nWHERE _TABLE_SUFFIX BETWEEN '20180327' and '20180327'\",\n",
       " '--GA_MAIN_ADWORDS_CLICK_INFO--\\n--官網--\\n\\nSELECT  TO_HEX(SHA256(Concat(cast(FullvisitorID as string),\"_\",cast(VISITID as string)))) as GA_MAIN_NO ,\\n        \"Official_Web\" as DATASOURCE,\\n        FullvisitorID as FULL_VISITOR_ID,\\n        VISITID as VISIT_ID,\\n        trafficsource.AdwordsClickInfo.ADGroupID as AD_GROUP_ID,\\n        trafficsource.AdwordsClickInfo.AdNetworkType as AD_NETWORK_TYPE,\\n        trafficsource.AdwordsClickInfo.CampaignID as CAMPAIGN_ID,\\n        trafficsource.AdwordsClickInfo.CREATIVEID AS CREATIVE_ID,\\n        trafficsource.AdwordsClickInfo.CRITERIAID AS CRITERIA_ID,\\n        trafficsource.AdwordsClickInfo.CRITERIAPARAMETERS AS CRITERIA_PARAMETERS,\\n        trafficsource.AdwordsClickInfo.CUSTOMERID AS CUSTOMERID,\\n        trafficsource.AdwordsClickInfo.GCLID AS GCL_ID,\\n        trafficsource.AdwordsClickInfo.ISVIDEOAD AS IS_VIDEO_AD,\\n         trafficsource.AdwordsClickInfo.PAGE AS PAGE,\\n        trafficsource.AdwordsClickInfo.SLOT AS SLOT\\nFROM `ts-official-website.118166279.ga_sessions_*`\\nWHERE _TABLE_SUFFIX BETWEEN \\'20180114\\' and \\'20180114\\'',\n",
       " \"--GA_MAIN_HITS_CONTENT_INFO--\\n---行銷平台--\\n\\nSELECT TO_HEX(SHA256(Concat(cast(FullvisitorID as string),'_',cast(VISITID as string)))) as GA_MAIN_NO,\\n\\t   FullvisitorID as FULL_VISITOR_ID,\\n\\t   visitID as VISIT_ID,\\n\\t   h.hitNumber as HIT_NUMBER,\\n\\t   h.exceptionInfo.description as CONTENT_DESCRIPTION\\nFROM `ts-official-website.164284491.ga_sessions_*`,\\n\\t   UNNEST(hits) as h\\nWHERE _TABLE_SUFFIX BETWEEN '20180327' and '20180327'\\n\",\n",
       " \"--GA_MAIN_HITS_CUSTOM_VARIABLES--\\n--行銷平台--\\n\\nSELECT TO_HEX(SHA256(Concat(cast(FullvisitorID as string),'_',cast(VISITID as string)))) AS GA_MAIN_NO,\\n\\t   FullvisitorID as FULL_VISITOR_ID ,visitID as VISIT_ID ,h.hitNumber as HIT_NUMBER ,\\n\\t   hcv.index AS INDEX, \\n\\t   hcv.customVarName AS CUSTOM_VAR_NAME, \\n\\t   hcv.customVarValue AS CUSTOM_VAR_VALUE\\nFROM `ts-official-website.164284491.ga_sessions_*`,\\n\\t   UNNEST(hits) AS h,\\n\\t   UNNEST(h.customVariables) AS hcv\\nWHERE _TABLE_SUFFIX BETWEEN '20180327' and '20180327'\"]"
      ]
     },
     "execution_count": 49,
     "metadata": {},
     "output_type": "execute_result"
    }
   ],
   "source": [
    "sql_files = sql_path.resolve().glob('*.sql')\n",
    "\n",
    "sqls = []\n",
    "for _, file_path in enumerate(sql_files):\n",
    "    with open(file_path, 'r', encoding='utf8') as file:\n",
    "        try:\n",
    "            sqls.append(file.read())\n",
    "        except Exception as e:\n",
    "            print(e)\n",
    "\n",
    "sqls"
   ]
  },
  {
   "cell_type": "markdown",
   "metadata": {},
   "source": [
    "### get_bq_result"
   ]
  },
  {
   "cell_type": "code",
   "execution_count": null,
   "metadata": {},
   "outputs": [],
   "source": [
    "def save_bq_csv(sql, date_from, date_to):\n",
    "    \n",
    "    df = read_gbq(\n",
    "        sql,\n",
    "        private_key=private_key,\n",
    "        project_id=projectid,\n",
    "        configuration=configuration,\n",
    "        dialect='standard'\n",
    "    )\n",
    "    \n",
    "    df.to_csv()\n",
    "    \n",
    "    return True"
   ]
  },
  {
   "cell_type": "markdown",
   "metadata": {},
   "source": [
    "### Run"
   ]
  },
  {
   "cell_type": "code",
   "execution_count": null,
   "metadata": {},
   "outputs": [],
   "source": [
    "save_bq_csv()"
   ]
  }
 ],
 "metadata": {
  "kernelspec": {
   "display_name": "venv",
   "language": "python",
   "name": "venv"
  },
  "language_info": {
   "codemirror_mode": {
    "name": "ipython",
    "version": 3
   },
   "file_extension": ".py",
   "mimetype": "text/x-python",
   "name": "python",
   "nbconvert_exporter": "python",
   "pygments_lexer": "ipython3",
   "version": "3.6.5"
  }
 },
 "nbformat": 4,
 "nbformat_minor": 2
}
